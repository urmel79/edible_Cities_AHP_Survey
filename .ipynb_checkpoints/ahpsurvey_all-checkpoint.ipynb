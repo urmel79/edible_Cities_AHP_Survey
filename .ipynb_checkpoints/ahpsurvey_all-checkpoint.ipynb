{
 "cells": [
  {
   "cell_type": "markdown",
   "id": "7a277790-51a0-4d1b-b312-c5859bc2256e",
   "metadata": {},
   "source": [
    "# Introduction\n",
    "\n",
    "Why we use a [Jupyter](https://en.wikipedia.org/wiki/Project_Jupyter) notebook to to publish the R program examples:\n",
    "\n",
    "Jupyter is a new **open source** alternative to the proprietary numerical software [Mathematica](https://en.wikipedia.org/wiki/Wolfram_Mathematica) from **Wolfram Research** that is well on the way to becoming a **standard for exchanging research results** (<cite data-cite=\"Scientific_Paper_obsolete_2018\">Somers, 2018</cite>; <cite data-cite=\"Future_of_Research_Paper_2018\">Romer, 2018</cite>).\n",
    "\n",
    "Originally Jupyter was intended as an IDE for the programming languages **Julia** and **Python**. Besides that it is also possible to install other interpreter kernels, such as the **[IRkernel](https://irkernel.github.io/installation/)** for R. This can be interesting if the IDE **RStudio Desktop** is not available on the target platform used. For example, it is very difficult to install RStudio on the ARM-based embedded computer **Raspberry Pi** due to many technical dependencies. In contrast, using the R kernel in JupyterLab on the Raspberry Pi works very well and performant."
   ]
  },
  {
   "cell_type": "markdown",
   "id": "159c4a7e-7f55-4296-9ccf-f0f8a072fb74",
   "metadata": {},
   "source": [
    "# Global settings and dependencies\n",
    "\n",
    "## Load package `data.table`\n",
    "\n",
    "The package `data.table` is used for reading and manipulating tables (`data.table` inherits from `data.frame`). Install and load it:"
   ]
  },
  {
   "cell_type": "code",
   "execution_count": 1,
   "id": "a9f2fa38-d5fa-42b0-8559-17149efa0f5f",
   "metadata": {},
   "outputs": [],
   "source": [
    "# install.packages(\"data.table\")\n",
    "library(data.table)"
   ]
  },
  {
   "cell_type": "markdown",
   "id": "86e957a9-7c56-4eed-b26b-547bbfbb87d1",
   "metadata": {},
   "source": [
    "## Load `ggplot2`\n",
    "\n",
    "The package `ggplot2` is used for plotting diagrams. Install and load it:"
   ]
  },
  {
   "cell_type": "code",
   "execution_count": 2,
   "id": "33391de9-be6c-4d4f-802b-0f115e44b030",
   "metadata": {},
   "outputs": [],
   "source": [
    "# install.packages(\"ggplot2\")\n",
    "library(ggplot2)"
   ]
  },
  {
   "cell_type": "markdown",
   "id": "3b16e37b-eae2-4c7d-91f9-eff708e4e55a",
   "metadata": {},
   "source": [
    "## Load `tidyr` for *gather()* function"
   ]
  },
  {
   "cell_type": "code",
   "execution_count": 3,
   "id": "6e9b7697-9243-4a70-b866-9da7dad41546",
   "metadata": {},
   "outputs": [],
   "source": [
    "# install.packages(\"tidyr\")\n",
    "library(tidyr)"
   ]
  },
  {
   "cell_type": "markdown",
   "id": "1cd812f9-b6dd-47e6-98f8-e9572dcf1455",
   "metadata": {},
   "source": [
    "## Load `dplyr` for data manipulation\n",
    "\n",
    "Load necessary library `dplyr` for data manipulation with functions like `select()`, `mutate()` and `left_join()`."
   ]
  },
  {
   "cell_type": "code",
   "execution_count": 5,
   "id": "af9a5f69-2e4a-4739-959d-66cead0320fd",
   "metadata": {},
   "outputs": [],
   "source": [
    "# install.packages(\"dplyr\")\n",
    "library(dplyr)"
   ]
  },
  {
   "cell_type": "markdown",
   "id": "76d8bf32-fde9-4594-85e1-510d7624ffb8",
   "metadata": {},
   "source": [
    "## Load `magick` for image manipulation\n",
    "\n",
    "The library `magick` is the R API to *ImageMagick*."
   ]
  },
  {
   "cell_type": "code",
   "execution_count": 7,
   "id": "0844bd04-31f3-462c-85e9-453b7316eb02",
   "metadata": {},
   "outputs": [],
   "source": [
    "# install.packages('magick')\n",
    "library(magick)"
   ]
  },
  {
   "cell_type": "markdown",
   "id": "65ceb75e-9de3-42f9-803d-7ffa2cd0b52e",
   "metadata": {},
   "source": [
    "## Use pipes for better coding\n",
    "\n",
    "**HINT:** The pipe functionality is already available by loading the library `tidyr` - so you don't have to load it explicitly.\n",
    "\n",
    "What pipes like '%>%' are and how to use them is described here: [https://statistik-dresden.de/archives/15679](https://statistik-dresden.de/archives/15679).\n",
    "\n",
    "Before using pipes in R, you have to install and load the package `magrittr`:"
   ]
  },
  {
   "cell_type": "code",
   "execution_count": 9,
   "id": "b5ad6a0b-8862-4a1e-bd16-5585e304c6c4",
   "metadata": {},
   "outputs": [],
   "source": [
    "# install.packages(\"magrittr\")\n",
    "library(magrittr)"
   ]
  },
  {
   "cell_type": "markdown",
   "id": "b3370dda-9b11-4f94-8621-bf64af403bc6",
   "metadata": {},
   "source": [
    "## Load package `ahpsurvey`\n",
    "\n",
    "The package `ahpsurvey` contains all the necessary mathematical and statistical methods to run the analytical hierarchy process (AHP)."
   ]
  },
  {
   "cell_type": "code",
   "execution_count": 10,
   "id": "093919a7-f7d6-4a0f-aa87-ebdb908f6de3",
   "metadata": {},
   "outputs": [],
   "source": [
    "# install.packages(\"ahpsurvey\")\n",
    "library(ahpsurvey)"
   ]
  },
  {
   "cell_type": "markdown",
   "id": "6e632595-6a45-446a-a394-d7449ef7e9a9",
   "metadata": {},
   "source": [
    "# Functions for processing AHP\n",
    "\n",
    "## Set globally used input and output folders"
   ]
  },
  {
   "cell_type": "code",
   "execution_count": 11,
   "id": "9a1d4882-5096-4db9-b1ba-458546abdd58",
   "metadata": {},
   "outputs": [],
   "source": [
    "str_input_path = \"./output_data_manipulated\"\n",
    "str_output_path = \"./output_data_AHP\""
   ]
  },
  {
   "cell_type": "markdown",
   "id": "a1cba379-b20e-4afb-8563-5f731da98153",
   "metadata": {},
   "source": [
    "## Function for reading in processed survey data from CSV files to data frames\n",
    "\n",
    "Define a function for reading in a CSV file to a date frame."
   ]
  },
  {
   "cell_type": "code",
   "execution_count": 12,
   "id": "7c327d55-8582-4fff-8e82-eee3b81ae329",
   "metadata": {},
   "outputs": [],
   "source": [
    "func_readCSVdata_to_dataframe <- function(str_CSVfilename) {\n",
    "  \n",
    "  df_CSVdata <- fread(\n",
    "    file = str_CSVfilename, encoding = \"UTF-8\",\n",
    "    header = TRUE, sep = \"\\t\", quote = \"\\\"\"\n",
    "    )\n",
    "  \n",
    "  return(df_CSVdata)\n",
    "}"
   ]
  },
  {
   "cell_type": "markdown",
   "id": "859d464d-1f10-4483-805d-4a22ff2fa230",
   "metadata": {},
   "source": [
    "## Function for generating a data frame with *eigentrue values* (weights)"
   ]
  },
  {
   "cell_type": "code",
   "execution_count": 13,
   "id": "608c8949-ce71-4837-900b-751435e3e16f",
   "metadata": {},
   "outputs": [],
   "source": [
    "func_genEigentrue_to_dataframe <- function(df_surveyData, vec_attributes) {\n",
    "  list_mat_judgement <- df_surveyData %>% \n",
    "    ahp.mat(vec_attributes, negconvert = TRUE)\n",
    "  \n",
    "  df_eigentrue <- ahp.indpref(list_mat_judgement, vec_attributes, method = \"eigen\")\n",
    "\n",
    "  return(df_eigentrue)\n",
    "}"
   ]
  },
  {
   "cell_type": "markdown",
   "id": "d0fd8cdd-0c6d-403e-ad94-3050bbd0c0bb",
   "metadata": {},
   "source": [
    "## Function for generating an array with consistency ratios"
   ]
  },
  {
   "cell_type": "code",
   "execution_count": 14,
   "id": "8da8602f-ecfa-40f8-9d23-a824953cc612",
   "metadata": {},
   "outputs": [],
   "source": [
    "func_genCR_to_arr <- function(df_surveyData, vec_attributes) {\n",
    "  arr_cr <- df_surveyData %>%\n",
    "    ahp.mat(vec_attributes, negconvert = TRUE) %>% \n",
    "    ahp.cr(vec_attributes, ri=0.58)\n",
    "\n",
    "  return(arr_cr)\n",
    "}"
   ]
  },
  {
   "cell_type": "markdown",
   "id": "002378e4-e12a-4e88-bda5-0b793ad3a85e",
   "metadata": {},
   "source": [
    "## Function for generating a data frame with consistency ratios"
   ]
  },
  {
   "cell_type": "code",
   "execution_count": 15,
   "id": "583c268b-4705-4b12-bb12-9219ae12c59e",
   "metadata": {},
   "outputs": [],
   "source": [
    "func_genCR_to_dataframe <- function(df_surveyData, vec_attributes, arr_cr, consistency_thres=0.1, str_CRlabel) {\n",
    "  df_cr <- df_surveyData %>%\n",
    "    ahp.mat(vec_attributes, negconvert = TRUE) %>% \n",
    "    ahp.cr(vec_attributes, ri=0.58) %>% \n",
    "    data.frame() %>%\n",
    "    mutate(rowid = 1:length(arr_cr), arr_cr.dum = as.factor(ifelse(arr_cr <= consistency_thres, 1, 0)))\n",
    "  \n",
    "  # rename column with consistency ratios\n",
    "  colnames(df_cr)[1] <- str_CRlabel\n",
    "\n",
    "  return(df_cr)\n",
    "}"
   ]
  },
  {
   "cell_type": "markdown",
   "id": "a8cfc5e1-33e1-4d6d-8e26-1311f3fd65f2",
   "metadata": {},
   "source": [
    "## Function for visualizing individual priorities and consistency ratios"
   ]
  },
  {
   "cell_type": "code",
   "execution_count": 16,
   "id": "83cf4a70-1a7d-42a7-9427-31c04ca55aef",
   "metadata": {},
   "outputs": [],
   "source": [
    "func_visuPriosCRs <- function(df_surveyData, df_cr, arr_cr, consistency_thres=0.1, vec_attributes, df_eigentrue, vec_labels, str_image_filename) {\n",
    "  df_cr_sel <- df_cr %>%\n",
    "    select(arr_cr.dum, rowid)\n",
    "\n",
    "  df_surveyData %>%\n",
    "  ahp.mat(atts = vec_attributes, negconvert = TRUE) %>% \n",
    "  ahp.indpref(vec_attributes, method = \"eigen\") %>% \n",
    "  mutate(rowid = 1:nrow(df_eigentrue)) %>%\n",
    "  left_join(df_cr_sel, by = 'rowid') %>%\n",
    "  gather(all_of(vec_attributes), key = \"var\", value = \"pref\") %>%\n",
    "  ggplot(aes(x = var, y = pref)) + \n",
    "  geom_violin(alpha = 0.6, width = 0.8, color = \"transparent\", fill = \"gray\") +\n",
    "  geom_jitter(alpha = 0.6, height = 0, width = 0.1, aes(color = arr_cr.dum)) +\n",
    "  geom_boxplot(alpha = 0, width = 0.3, color = \"#808080\") +\n",
    "  scale_x_discrete(\"Attribute\", label = vec_labels) +\n",
    "  scale_y_continuous(\"Weight (dominant eigenvalue)\", \n",
    "                     labels = scales::percent, \n",
    "                     breaks = c(seq(0,0.7,0.1))) +\n",
    "  guides(color=guide_legend(title=NULL))+\n",
    "  scale_color_discrete(breaks = c(0,1), \n",
    "                       labels = c(paste(\"CR >\", consistency_thres), \n",
    "                                  paste(\"CR <\", consistency_thres))) +\n",
    "  labs(NULL, caption = paste(\"n =\", nrow(df_surveyData), \",\", \"Mean CR =\",\n",
    "                           round(mean(arr_cr),3))) +\n",
    "  theme_minimal() +\n",
    "  ggtitle(\"Violins displaying priorities and consistency ratios\")\n",
    "\n",
    "  # save generated ggplot graphic to a PNG image file\n",
    "  ggsave(filename = str_image_filename, width = 7, height = 7, dpi = 300)\n",
    "}"
   ]
  },
  {
   "cell_type": "markdown",
   "id": "0a30e787-3b95-4e19-9325-647b60d4fb03",
   "metadata": {},
   "source": [
    "## Function for generating geometric mean values from individual judgement matrices"
   ]
  },
  {
   "cell_type": "code",
   "execution_count": 17,
   "id": "dd1c51f5-bab5-42ca-9af8-03135884f6d3",
   "metadata": {},
   "outputs": [],
   "source": [
    "func_aggpref_gmean <- function(df_surveyData, vec_attributes, arr_cr, consistency_thres=0.1, str_CRlabel) {\n",
    "  df_cr <- df_surveyData %>%\n",
    "    ahp.mat(vec_attributes, negconvert = TRUE) %>% \n",
    "    ahp.cr(vec_attributes, ri=0.58) %>% \n",
    "    data.frame() %>%\n",
    "    mutate(rowid = 1:length(arr_cr), arr_cr.dum = as.factor(ifelse(arr_cr <= consistency_thres, 1, 0)))\n",
    "  \n",
    "  # rename column with consistency ratios\n",
    "  colnames(df_cr)[1] <- str_CRlabel\n",
    "\n",
    "  # combine data frame 'df_cr' with raw survey data ('df_surveyData')\n",
    "  df_cr_wRaw <- cbind(df_cr, df_surveyData)\n",
    "  \n",
    "  # remove rows, where 'arr_cr.dum' == 0 (inconsistent data)\n",
    "  df_cr_wRaw_cons <- df_cr_wRaw[df_cr_wRaw$arr_cr.dum != 0, ]\n",
    "  \n",
    "  # get individual judgement matrices from last 3 columns\n",
    "  list_mat_judgement <- df_cr_wRaw_cons[tail(names(df_cr_wRaw_cons), 3)] %>% \n",
    "    ahp.mat(vec_atts, negconvert = TRUE)\n",
    "  \n",
    "  # get geometric mean values from judgement matrices\n",
    "  list_gmean_l <- ahp.aggpref(list_mat_judgement, vec_atts, method = \"eigen\", aggmethod = \"geometric\")\n",
    "  \n",
    "  return(list_gmean_l)\n",
    "}"
   ]
  },
  {
   "cell_type": "markdown",
   "id": "677d7498-c2f2-4f95-a691-993fa587dc0b",
   "metadata": {},
   "source": [
    "## Function for normalizing the geometric mean values"
   ]
  },
  {
   "cell_type": "code",
   "execution_count": 18,
   "id": "f73bd2be-f283-455a-9a25-9ab696af6612",
   "metadata": {},
   "outputs": [],
   "source": [
    "func_norm_gmean <- function(list_gmeans) {\n",
    "  # normalization so that the sum of the geometric mean values is 1 (corresponds to 100%)\n",
    "  df_gmean_l <- data.frame(list_gmeans)\n",
    "  # rename column with geometric mean values (raw)\n",
    "  colnames(df_gmean_l)[1] <- \"gmean.raw\"\n",
    "  \n",
    "  gmean_sum <- 0\n",
    "  for ( val in list_gmeans ) {\n",
    "    gmean_sum <- gmean_sum + val\n",
    "  }\n",
    "  df_gmean_l[\"Sum\", 1] <- gmean_sum\n",
    "  \n",
    "  for (idx in 1:length(list_gmeans)) {\n",
    "    gmean_norm <- list_gmeans[[idx]] / gmean_sum\n",
    "    df_gmean_l[idx, \"gmean.norm\"] <- gmean_norm\n",
    "  }\n",
    "  \n",
    "  gmean_sum_norm <- 0\n",
    "  # iterate over all rows except the last, because this is the sum itself\n",
    "  for ( row in 1:(nrow(df_gmean_l)-1) ) {\n",
    "    gmean_sum_norm <- gmean_sum_norm + df_gmean_l[row, 2]\n",
    "  }\n",
    "  df_gmean_l[\"Sum\", 2] <- gmean_sum_norm\n",
    "  \n",
    "  return(df_gmean_l)\n",
    "}"
   ]
  },
  {
   "cell_type": "markdown",
   "id": "f74a8700-2f54-4bdd-bc38-fa3bdf449f5d",
   "metadata": {},
   "source": [
    "# Create data frames (tables) handling the file names of processed survey data\n",
    "\n",
    "## File table for all participants"
   ]
  },
  {
   "cell_type": "code",
   "execution_count": 19,
   "id": "4e4f9037-3268-4db8-9d20-73199dde3eca",
   "metadata": {},
   "outputs": [],
   "source": [
    "df_csvInputFiles_all <- data.table(\n",
    "  file_idx = 1:4,\n",
    "  keys = c(\"env\", \"soc\", \"eco\", \"crit\"),\n",
    "  filenames = c(\"rdata_all_env_AHP_essbare_Stadt_2022-03-18_09-53.csv\",\n",
    "                \"rdata_all_soc_AHP_essbare_Stadt_2022-03-18_09-53.csv\",\n",
    "                \"rdata_all_eco_AHP_essbare_Stadt_2022-03-18_09-53.csv\",\n",
    "                \"rdata_all_crit_AHP_essbare_Stadt_2022-03-18_09-53.csv\"),\n",
    "  descriptions = c(\"environmental sub-criteria\",\n",
    "                   \"social sub-criteria\",\n",
    "                   \"economic sub-criteria\",\n",
    "                   \"criteria (main criteria)\")\n",
    ")"
   ]
  },
  {
   "cell_type": "markdown",
   "id": "d99bbdbd-2c9c-4eb8-b91e-ea537c7659f5",
   "metadata": {},
   "source": [
    "## File table for city administrations"
   ]
  },
  {
   "cell_type": "code",
   "execution_count": 20,
   "id": "6c71d30a-4c7f-46af-b9ba-6fdeffc1d5d2",
   "metadata": {},
   "outputs": [],
   "source": [
    "df_csvInputFiles_CA <- data.table(\n",
    "  file_idx = 1:4,\n",
    "  keys = c(\"env\", \"soc\", \"eco\", \"crit\"),\n",
    "  filenames = c(\"rdata_CA_env_AHP_essbare_Stadt_2022-03-18_10-28.csv\",\n",
    "                \"rdata_CA_soc_AHP_essbare_Stadt_2022-03-18_10-28.csv\",\n",
    "                \"rdata_CA_eco_AHP_essbare_Stadt_2022-03-18_10-28.csv\",\n",
    "                \"rdata_CA_crit_AHP_essbare_Stadt_2022-03-18_10-28.csv\"),\n",
    "  descriptions = c(\"environmental sub-criteria\",\n",
    "                   \"social sub-criteria\",\n",
    "                   \"economic sub-criteria\",\n",
    "                   \"criteria (main criteria)\")\n",
    ")"
   ]
  },
  {
   "cell_type": "markdown",
   "id": "4000cc6c-1138-4519-b011-086117cdc8dc",
   "metadata": {},
   "source": [
    "## File table for non-governmental organizations"
   ]
  },
  {
   "cell_type": "code",
   "execution_count": 21,
   "id": "4aa119ea-1712-4753-82cb-00866b8e053f",
   "metadata": {},
   "outputs": [],
   "source": [
    "df_csvInputFiles_NGO <- data.table(\n",
    "  file_idx = 1:4,\n",
    "  keys = c(\"env\", \"soc\", \"eco\", \"crit\"),\n",
    "  filenames = c(\"rdata_NGO_env_AHP_essbare_Stadt_2022-03-18_10-40.csv\",\n",
    "                \"rdata_NGO_soc_AHP_essbare_Stadt_2022-03-18_10-40.csv\",\n",
    "                \"rdata_NGO_eco_AHP_essbare_Stadt_2022-03-18_10-40.csv\",\n",
    "                \"rdata_NGO_crit_AHP_essbare_Stadt_2022-03-18_10-40.csv\"),\n",
    "  descriptions = c(\"environmental sub-criteria\",\n",
    "                   \"social sub-criteria\",\n",
    "                   \"economic sub-criteria\",\n",
    "                   \"criteria (main criteria)\")\n",
    ")"
   ]
  },
  {
   "cell_type": "markdown",
   "id": "24c02c91-593d-41d1-ac65-0cf5f01c4e88",
   "metadata": {},
   "source": [
    "## File table for practitioners and experts"
   ]
  },
  {
   "cell_type": "code",
   "execution_count": 22,
   "id": "9bbc1af8-a62c-48ab-9afc-735e39d954e8",
   "metadata": {},
   "outputs": [],
   "source": [
    "df_csvInputFiles_PE <- data.table(\n",
    "  file_idx = 1:4,\n",
    "  keys = c(\"env\", \"soc\", \"eco\", \"crit\"),\n",
    "  filenames = c(\"rdata_PE_env_AHP_essbare_Stadt_2022-03-18_10-41.csv\",\n",
    "                \"rdata_PE_soc_AHP_essbare_Stadt_2022-03-18_10-41.csv\",\n",
    "                \"rdata_PE_eco_AHP_essbare_Stadt_2022-03-18_10-41.csv\",\n",
    "                \"rdata_PE_crit_AHP_essbare_Stadt_2022-03-18_10-41.csv\"),\n",
    "  descriptions = c(\"environmental sub-criteria\",\n",
    "                   \"social sub-criteria\",\n",
    "                   \"economic sub-criteria\",\n",
    "                   \"criteria (main criteria)\")\n",
    ")"
   ]
  },
  {
   "cell_type": "markdown",
   "id": "9552877c-9d6c-4ae5-87c0-3712b165639d",
   "metadata": {},
   "source": [
    "# Exploit datasets of own survey with package `ahpsurvey` for each group of participants"
   ]
  },
  {
   "cell_type": "code",
   "execution_count": 23,
   "id": "8ab14ff6-e6b9-42d6-b1d0-367e33115afa",
   "metadata": {},
   "outputs": [],
   "source": [
    "df_attributes_labels_all <- data.table(\n",
    "  idx = 1:12,\n",
    "  attr = c(\"Klima\", \"BioV\", \"KlW\",\n",
    "           \"Wiss\", \"Gem\", \"Bet\",\n",
    "           \"Quali\", \"WSK\", \"Bez\",\n",
    "           \"Oeko\", \"Soz\", \"Wirt\"),\n",
    "  labels = c(\"Klima\", \"Biologische Vielfalt\", \"Kreislaufwirtschaft\",\n",
    "             \"Wissensvermittlung\", \"Gemeinschaftsbildung\", \"Beteiligung\",\n",
    "             \"Lebensmittelqualitaet\", \"lokale Wertschoepfungsketten\", \"Bezahlbarkeit\",\n",
    "             \"Oekologisch\", \"Sozial\", \"Wirtschaftlich\")\n",
    ")"
   ]
  },
  {
   "cell_type": "markdown",
   "id": "b3f52193-ca53-4dc4-b192-694f7eb07f01",
   "metadata": {},
   "source": [
    "## All participants"
   ]
  },
  {
   "cell_type": "code",
   "execution_count": 24,
   "id": "93804394-56d1-4c08-8264-44686a81410c",
   "metadata": {},
   "outputs": [],
   "source": [
    "row_start = 1\n",
    "row_end = 3\n",
    "\n",
    "str_participants_group = \"all\"\n",
    "\n",
    "df_outputTable <- data.table()\n",
    "\n",
    "for ( file_idx in 1:nrow(df_csvInputFiles_all) ) {\n",
    "  # create data frame from current input CSV file\n",
    "  str_filename <- paste(str_input_path, df_csvInputFiles_all[file_idx, filenames], sep=\"/\")\n",
    "  df_processed_survey_data <- func_readCSVdata_to_dataframe(str_filename)\n",
    "  \n",
    "  # create vectors for attributes and labels from a subset of data frame 'df_attributes_labels_all'\n",
    "  vec_atts <- df_attributes_labels_all[c(row_start:row_end), attr]\n",
    "  vec_labels <- df_attributes_labels_all[c(row_start:row_end), labels]\n",
    "  # shift row interval for next iteration\n",
    "  row_start = row_start + 3\n",
    "  row_end = row_end + 3\n",
    "  \n",
    "  # generate data frame with eigentrue values (weights) \n",
    "  df_eigentrue_weights <- func_genEigentrue_to_dataframe(df_processed_survey_data, vec_atts)\n",
    "  \n",
    "  # generate an array with consistency ratios\n",
    "  arr_CRs <- func_genCR_to_arr(df_processed_survey_data, vec_atts)\n",
    "\n",
    "  # generate a extended data frame with consistency ratios\n",
    "  consistency_thres = 0.1\n",
    "  str_CRlabel <- paste(\"CR\", df_csvInputFiles_all[file_idx, keys], sep=\"_\")\n",
    "  df_CRs <- func_genCR_to_dataframe(df_processed_survey_data, vec_atts, arr_CRs, consistency_thres, str_CRlabel)\n",
    "  \n",
    "  str_image_filename <- paste(\"ahp_violin\", str_participants_group, df_csvInputFiles_PE[file_idx, keys], sep=\"_\")\n",
    "  str_image_filename <- paste(str_image_filename, \".png\", sep=\"\")\n",
    "  str_image_filename <- paste(str_output_path, str_image_filename, sep=\"/\")\n",
    "  func_visuPriosCRs(df_processed_survey_data, df_CRs, arr_CRs, consistency_thres, vec_atts, df_eigentrue_weights, vec_labels, str_image_filename)\n",
    "  \n",
    "  # combine data frames of eigentrue values (weights) with consistency ratios\n",
    "  df_outputTable <- cbind(df_outputTable, df_eigentrue_weights)\n",
    "  # add only specific columns of 'df_CRs' (omit column 'row_id')\n",
    "  df_outputTable <- cbind(df_outputTable, df_CRs[c(1, 3)])\n",
    "}\n",
    "\n",
    "# extend file name by path\n",
    "str_CSVfilename_output <- paste(\"rdata\", str_participants_group, \"eigentrue_CRs\", sep=\"_\")\n",
    "str_CSVfilename_output <- paste(str_CSVfilename_output, \".csv\", sep=\"\")\n",
    "str_CSVfilename_output <- paste(str_output_path, str_CSVfilename_output, sep=\"/\")\n",
    "\n",
    "# write data frame 'df_outputTable' to CSV file\n",
    "write.table(df_outputTable, file = str_CSVfilename_output,\n",
    "            fileEncoding = \"UTF-8\", row.names = FALSE,\n",
    "            col.names = TRUE, sep = \"\\t\", quote = TRUE)"
   ]
  },
  {
   "cell_type": "code",
   "execution_count": 25,
   "id": "3e90c159-0c5f-459f-9785-44ca319d638b",
   "metadata": {},
   "outputs": [
    {
     "data": {
      "text/html": [
       "<table class=\"dataframe\">\n",
       "<caption>A data.frame: 4 × 2</caption>\n",
       "<thead>\n",
       "\t<tr><th></th><th scope=col>gmean.raw</th><th scope=col>gmean.norm</th></tr>\n",
       "\t<tr><th></th><th scope=col>&lt;dbl&gt;</th><th scope=col>&lt;dbl&gt;</th></tr>\n",
       "</thead>\n",
       "<tbody>\n",
       "\t<tr><th scope=row>Oeko</th><td>0.3739039</td><td>0.4179807</td></tr>\n",
       "\t<tr><th scope=row>Soz</th><td>0.3023657</td><td>0.3380094</td></tr>\n",
       "\t<tr><th scope=row>Wirt</th><td>0.2182787</td><td>0.2440099</td></tr>\n",
       "\t<tr><th scope=row>Sum</th><td>0.8945482</td><td>1.0000000</td></tr>\n",
       "</tbody>\n",
       "</table>\n"
      ],
      "text/latex": [
       "A data.frame: 4 × 2\n",
       "\\begin{tabular}{r|ll}\n",
       "  & gmean.raw & gmean.norm\\\\\n",
       "  & <dbl> & <dbl>\\\\\n",
       "\\hline\n",
       "\tOeko & 0.3739039 & 0.4179807\\\\\n",
       "\tSoz & 0.3023657 & 0.3380094\\\\\n",
       "\tWirt & 0.2182787 & 0.2440099\\\\\n",
       "\tSum & 0.8945482 & 1.0000000\\\\\n",
       "\\end{tabular}\n"
      ],
      "text/markdown": [
       "\n",
       "A data.frame: 4 × 2\n",
       "\n",
       "| <!--/--> | gmean.raw &lt;dbl&gt; | gmean.norm &lt;dbl&gt; |\n",
       "|---|---|---|\n",
       "| Oeko | 0.3739039 | 0.4179807 |\n",
       "| Soz | 0.3023657 | 0.3380094 |\n",
       "| Wirt | 0.2182787 | 0.2440099 |\n",
       "| Sum | 0.8945482 | 1.0000000 |\n",
       "\n"
      ],
      "text/plain": [
       "     gmean.raw gmean.norm\n",
       "Oeko 0.3739039 0.4179807 \n",
       "Soz  0.3023657 0.3380094 \n",
       "Wirt 0.2182787 0.2440099 \n",
       "Sum  0.8945482 1.0000000 "
      ]
     },
     "metadata": {},
     "output_type": "display_data"
    }
   ],
   "source": [
    "list_gmean <- func_aggpref_gmean(df_processed_survey_data, vec_atts, arr_CRs, consistency_thres, str_CRlabel)\n",
    "\n",
    "df_gmean <- func_norm_gmean(list_gmean)\n",
    "\n",
    "df_gmean"
   ]
  },
  {
   "cell_type": "markdown",
   "id": "0909f7ff-51c4-42bd-943e-839343517f4c",
   "metadata": {},
   "source": [
    "## Participants of city administrations"
   ]
  },
  {
   "cell_type": "code",
   "execution_count": 26,
   "id": "f61fd97f-d94b-4f4f-a207-cea4ba9969fa",
   "metadata": {},
   "outputs": [],
   "source": [
    "row_start = 1\n",
    "row_end = 3\n",
    "\n",
    "str_participants_group = \"CA\"\n",
    "\n",
    "df_outputTable <- data.table()\n",
    "\n",
    "for ( file_idx in 1:nrow(df_csvInputFiles_CA) ) {\n",
    "  # create data frame from current input CSV file\n",
    "  str_filename <- paste(str_input_path, df_csvInputFiles_CA[file_idx, filenames], sep=\"/\")\n",
    "  df_processed_survey_data <- func_readCSVdata_to_dataframe(str_filename)\n",
    "  \n",
    "  # create vectors for attributes and labels from a subset of data frame 'df_attributes_labels_all'\n",
    "  vec_atts <- df_attributes_labels_all[c(row_start:row_end), attr]\n",
    "  vec_labels <- df_attributes_labels_all[c(row_start:row_end), labels]\n",
    "  # shift row interval for next iteration\n",
    "  row_start = row_start + 3\n",
    "  row_end = row_end + 3\n",
    "  \n",
    "  # generate data frame with eigentrue values (weights) \n",
    "  df_eigentrue_weights <- func_genEigentrue_to_dataframe(df_processed_survey_data, vec_atts)\n",
    "  \n",
    "  # generate an array with consistency ratios\n",
    "  arr_CRs <- func_genCR_to_arr(df_processed_survey_data, vec_atts)\n",
    "\n",
    "  # generate a extended data frame with consistency ratios\n",
    "  consistency_thres = 0.1\n",
    "  str_CRlabel <- paste(\"CR\", df_csvInputFiles_CA[file_idx, keys], sep=\"_\")\n",
    "  df_CRs <- func_genCR_to_dataframe(df_processed_survey_data, vec_atts, arr_CRs, consistency_thres, str_CRlabel)\n",
    "  \n",
    "  str_image_filename <- paste(\"ahp_violin\", str_participants_group, df_csvInputFiles_PE[file_idx, keys], sep=\"_\")\n",
    "  str_image_filename <- paste(str_image_filename, \".png\", sep=\"\")\n",
    "  str_image_filename <- paste(str_output_path, str_image_filename, sep=\"/\")\n",
    "  func_visuPriosCRs(df_processed_survey_data, df_CRs, arr_CRs, consistency_thres, vec_atts, df_eigentrue_weights, vec_labels, str_image_filename)\n",
    "  \n",
    "  # combine data frames of eigentrue values (weights) with consistency ratios\n",
    "  df_outputTable <- cbind(df_outputTable, df_eigentrue_weights)\n",
    "  # add only specific columns of 'df_CRs' (omit column 'row_id')\n",
    "  df_outputTable <- cbind(df_outputTable, df_CRs[c(1, 3)])\n",
    "}\n",
    "\n",
    "# extend file name by path\n",
    "str_CSVfilename_output <- paste(\"rdata\", str_participants_group, \"eigentrue_CRs\", sep=\"_\")\n",
    "str_CSVfilename_output <- paste(str_CSVfilename_output, \".csv\", sep=\"\")\n",
    "str_CSVfilename_output <- paste(str_output_path, str_CSVfilename_output, sep=\"/\")\n",
    "\n",
    "# write data frame 'df_outputTable' to CSV file\n",
    "write.table(df_outputTable, file = str_CSVfilename_output,\n",
    "            fileEncoding = \"UTF-8\", row.names = FALSE,\n",
    "            col.names = TRUE, sep = \"\\t\", quote = TRUE)"
   ]
  },
  {
   "cell_type": "markdown",
   "id": "ee839d4f-9004-4e43-b4c9-2feaf354fd16",
   "metadata": {},
   "source": [
    "## Participants of non-governmental organizations"
   ]
  },
  {
   "cell_type": "code",
   "execution_count": 27,
   "id": "e20219ce-8976-4815-9a39-bd677aa70113",
   "metadata": {},
   "outputs": [],
   "source": [
    "row_start = 1\n",
    "row_end = 3\n",
    "\n",
    "str_participants_group = \"NGO\"\n",
    "\n",
    "df_outputTable <- data.table()\n",
    "\n",
    "for ( file_idx in 1:nrow(df_csvInputFiles_NGO) ) {\n",
    "  # create data frame from current input CSV file\n",
    "  str_filename <- paste(str_input_path, df_csvInputFiles_NGO[file_idx, filenames], sep=\"/\")\n",
    "  df_processed_survey_data <- func_readCSVdata_to_dataframe(str_filename)\n",
    "  \n",
    "  # create vectors for attributes and labels from a subset of data frame 'df_attributes_labels_all'\n",
    "  vec_atts <- df_attributes_labels_all[c(row_start:row_end), attr]\n",
    "  vec_labels <- df_attributes_labels_all[c(row_start:row_end), labels]\n",
    "  # shift row interval for next iteration\n",
    "  row_start = row_start + 3\n",
    "  row_end = row_end + 3\n",
    "  \n",
    "  # generate data frame with eigentrue values (weights) \n",
    "  df_eigentrue_weights <- func_genEigentrue_to_dataframe(df_processed_survey_data, vec_atts)\n",
    "  \n",
    "  # generate an array with consistency ratios\n",
    "  arr_CRs <- func_genCR_to_arr(df_processed_survey_data, vec_atts)\n",
    "\n",
    "  # generate a extended data frame with consistency ratios\n",
    "  consistency_thres = 0.1\n",
    "  str_CRlabel <- paste(\"CR\", df_csvInputFiles_NGO[file_idx, keys], sep=\"_\")\n",
    "  df_CRs <- func_genCR_to_dataframe(df_processed_survey_data, vec_atts, arr_CRs, consistency_thres, str_CRlabel)\n",
    "  \n",
    "  str_image_filename <- paste(\"ahp_violin\", str_participants_group, df_csvInputFiles_PE[file_idx, keys], sep=\"_\")\n",
    "  str_image_filename <- paste(str_image_filename, \".png\", sep=\"\")\n",
    "  str_image_filename <- paste(str_output_path, str_image_filename, sep=\"/\")\n",
    "  func_visuPriosCRs(df_processed_survey_data, df_CRs, arr_CRs, consistency_thres, vec_atts, df_eigentrue_weights, vec_labels, str_image_filename)\n",
    "  \n",
    "  # combine data frames of eigentrue values (weights) with consistency ratios\n",
    "  df_outputTable <- cbind(df_outputTable, df_eigentrue_weights)\n",
    "  # add only specific columns of 'df_CRs' (omit column 'row_id')\n",
    "  df_outputTable <- cbind(df_outputTable, df_CRs[c(1, 3)])\n",
    "}\n",
    "\n",
    "# extend file name by path\n",
    "str_CSVfilename_output <- paste(\"rdata\", str_participants_group, \"eigentrue_CRs\", sep=\"_\")\n",
    "str_CSVfilename_output <- paste(str_CSVfilename_output, \".csv\", sep=\"\")\n",
    "str_CSVfilename_output <- paste(str_output_path, str_CSVfilename_output, sep=\"/\")\n",
    "\n",
    "# write data frame 'df_outputTable' to CSV file\n",
    "write.table(df_outputTable, file = str_CSVfilename_output,\n",
    "            fileEncoding = \"UTF-8\", row.names = FALSE,\n",
    "            col.names = TRUE, sep = \"\\t\", quote = TRUE)"
   ]
  },
  {
   "cell_type": "markdown",
   "id": "30bd8b51-60fc-471c-b730-a907f954fb70",
   "metadata": {},
   "source": [
    "## Participants of practitioners and experts"
   ]
  },
  {
   "cell_type": "code",
   "execution_count": 28,
   "id": "792782f6-0f6f-4696-a0cc-efb1ac2269db",
   "metadata": {},
   "outputs": [],
   "source": [
    "row_start = 1\n",
    "row_end = 3\n",
    "\n",
    "str_participants_group = \"PE\"\n",
    "\n",
    "df_outputTable <- data.table()\n",
    "\n",
    "for ( file_idx in 1:nrow(df_csvInputFiles_PE) ) {\n",
    "  # create data frame from current input CSV file\n",
    "  str_filename <- paste(str_input_path, df_csvInputFiles_PE[file_idx, filenames], sep=\"/\")\n",
    "  df_processed_survey_data <- func_readCSVdata_to_dataframe(str_filename)\n",
    "  \n",
    "  # create vectors for attributes and labels from a subset of data frame 'df_attributes_labels_all'\n",
    "  vec_atts <- df_attributes_labels_all[c(row_start:row_end), attr]\n",
    "  vec_labels <- df_attributes_labels_all[c(row_start:row_end), labels]\n",
    "  # shift row interval for next iteration\n",
    "  row_start = row_start + 3\n",
    "  row_end = row_end + 3\n",
    "  \n",
    "  # generate data frame with eigentrue values (weights) \n",
    "  df_eigentrue_weights <- func_genEigentrue_to_dataframe(df_processed_survey_data, vec_atts)\n",
    "  \n",
    "  # generate an array with consistency ratios\n",
    "  arr_CRs <- func_genCR_to_arr(df_processed_survey_data, vec_atts)\n",
    "\n",
    "  # generate a extended data frame with consistency ratios\n",
    "  consistency_thres = 0.1\n",
    "  str_CRlabel <- paste(\"CR\", df_csvInputFiles_PE[file_idx, keys], sep=\"_\")\n",
    "  df_CRs <- func_genCR_to_dataframe(df_processed_survey_data, vec_atts, arr_CRs, consistency_thres, str_CRlabel)\n",
    "  \n",
    "  str_image_filename <- paste(\"ahp_violin\", str_participants_group, df_csvInputFiles_PE[file_idx, keys], sep=\"_\")\n",
    "  str_image_filename <- paste(str_image_filename, \".png\", sep=\"\")\n",
    "  str_image_filename <- paste(str_output_path, str_image_filename, sep=\"/\")\n",
    "  func_visuPriosCRs(df_processed_survey_data, df_CRs, arr_CRs, consistency_thres, vec_atts, df_eigentrue_weights, vec_labels, str_image_filename)\n",
    "  \n",
    "  # img <- image_graph(width = 800, height = 800, res = 24)\n",
    "  # img <- image_read(str_image_filename)\n",
    "  # print(img)\n",
    "  \n",
    "  # combine data frames of eigentrue values (weights) with consistency ratios\n",
    "  df_outputTable <- cbind(df_outputTable, df_eigentrue_weights)\n",
    "  # add only specific columns of 'df_CRs' (omit column 'row_id')\n",
    "  df_outputTable <- cbind(df_outputTable, df_CRs[c(1, 3)])\n",
    "}\n",
    "\n",
    "# extend file name by path\n",
    "str_CSVfilename_output <- paste(\"rdata\", str_participants_group, \"eigentrue_CRs\", sep=\"_\")\n",
    "str_CSVfilename_output <- paste(str_CSVfilename_output, \".csv\", sep=\"\")\n",
    "str_CSVfilename_output <- paste(str_output_path, str_CSVfilename_output, sep=\"/\")\n",
    "\n",
    "# write data frame 'df_outputTable' to CSV file\n",
    "write.table(df_outputTable, file = str_CSVfilename_output,\n",
    "            fileEncoding = \"UTF-8\", row.names = FALSE,\n",
    "            col.names = TRUE, sep = \"\\t\", quote = TRUE)"
   ]
  },
  {
   "cell_type": "markdown",
   "id": "9b315ce8-2f89-4b04-a8b1-7e0dc1c2a33e",
   "metadata": {},
   "source": [
    "## Playground for inserting images"
   ]
  },
  {
   "cell_type": "code",
   "execution_count": 29,
   "id": "0d6e3a62-b25b-4a40-84c8-4f2d1ff75908",
   "metadata": {},
   "outputs": [
    {
     "ename": "ERROR",
     "evalue": "Error in magick_image_display(image, animate): R: unable to open X server `' @ error/animate.c/AnimateImages/301\n",
     "output_type": "error",
     "traceback": [
      "Error in magick_image_display(image, animate): R: unable to open X server `' @ error/animate.c/AnimateImages/301\nTraceback:\n",
      "1. image_display(img)",
      "2. magick_image_display(image, animate)"
     ]
    }
   ],
   "source": [
    "# install.packages('magick')\n",
    "library(magick)\n",
    "\n",
    "# img <- image_read(str_image_filename)\n",
    "# image_info(img)\n",
    "# img <- image_scale(img, \"600\")\n",
    "img <- image_graph(width = 400, height = 400, res = 12)\n",
    "img <- image_read(str_image_filename)\n",
    " \n",
    "# print(img)\n",
    "image_display(img)"
   ]
  },
  {
   "cell_type": "code",
   "execution_count": 30,
   "id": "2c3aa70a-f2ba-4cf0-ad67-f619904e14b6",
   "metadata": {},
   "outputs": [],
   "source": [
    "# # ggplot2::qplot(factor(cyl), data = mtcars, fill = factor(gear))\n",
    "# \n",
    "# # Produce graphic\n",
    "# fig <- image_graph(width = 800, height = 600, res = 96)\n",
    "# ggplot2::qplot(factor(cyl), data = mtcars, fill = factor(gear))\n",
    "# invisible(dev.off())\n",
    "# \n",
    "# print(fig)"
   ]
  },
  {
   "cell_type": "code",
   "execution_count": 31,
   "id": "a0f3b7da-8980-40a4-b533-897d85f77b69",
   "metadata": {},
   "outputs": [],
   "source": [
    "# library(ggplot2)\n",
    "# # install.packages(\"png\")\n",
    "# library(png)\n",
    "# \n",
    "# img1 <- readPNG(str_image_filename, native = TRUE, info = FALSE)\n",
    "# print(img1)"
   ]
  },
  {
   "cell_type": "code",
   "execution_count": 32,
   "id": "1a8c9a66-ee8e-40ea-823a-3fd400514fa0",
   "metadata": {},
   "outputs": [],
   "source": [
    "# #install.packages(\"rsvg\")\n",
    "# library(rsvg)\n",
    "# library(magick)\n",
    "# tiger <- image_read_svg('http://jeroen.github.io/images/tiger.svg', width = 350)\n",
    "# print(tiger)"
   ]
  },
  {
   "cell_type": "code",
   "execution_count": null,
   "id": "a6544c67-ef3f-4601-8fc1-ee1ca7fc5e09",
   "metadata": {},
   "outputs": [],
   "source": []
  }
 ],
 "metadata": {
  "abstract": "This is a placeholder for the abstract that needs to be added later.",
  "kernelspec": {
   "display_name": "R",
   "language": "R",
   "name": "ir"
  },
  "language_info": {
   "codemirror_mode": "r",
   "file_extension": ".r",
   "mimetype": "text/x-r-source",
   "name": "R",
   "pygments_lexer": "r",
   "version": "4.2.2"
  },
  "latex_metadata": {
   "affiliation": "BG ETEM",
   "author": "Dipl.-Ing. Bj\\\"orn Kasper",
   "bib": "literature/notebook.bib",
   "cover_image": "images/Cover_image.pdf",
   "email": "kasper.bjoern@bgetem.de",
   "release_version": "version 0.1 (pre-release)",
   "title": "Application of the processed survey data in the analytical hierarchy process (AHP)"
  },
  "toc-autonumbering": true
 },
 "nbformat": 4,
 "nbformat_minor": 5
}
